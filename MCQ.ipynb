Qustion 1 What is covariant return type?
Answer- overriding method can have base type as the return type instead of the derived type.

Question 2 -
import java.util.*;
import java.lang.*;
import java.io.*;
 
class SampleDemo implements Runnable {
	private Thread t;
	private String threadName;
 
	SampleDemo (String threadName){
		this.threadName = threadName;
 
	}
 
	public void run()
	{
		while(true)
			System.out.print(threadName);
	}
 
	public void start()
	{
		if(t==null){
			t = new Thread (this, threadName);
			t.start();
		}
	}
}
 
/* Name of the class has to be "Main" only if the class is public. */
public class Main
{
	public static void main (String[] args) throws java.lang.Exception
	{
		SampleDemo A =  new SampleDemo ("A");
		SampleDemo B =  new SampleDemo ("B");
 
		A.start();
		B.start();
	}
}

Output - ABABABAB repeats

Question 3 - 
/* package whatever; // don't place package name! */

import java.util.*;
import java.lang.*;
import java.io.*;
interface BaseI {void method();}

class BaseC{ 
    Public void method (){
        system.out.println("Inside BaseC:method");
    }
}
class Impc extends BaseC implements BaseI
{
    public static void main(String []s)
    {
        (new ImplC()).method();
    }
}

Output - Compilation fail


Question -
Public class test{
public static void main(Strings[] args){
int i = 010;
int j = 07;
System.out.println(i);
System.out.println(j);
}
}

output - 8
7


